{
 "cells": [
  {
   "cell_type": "markdown",
   "metadata": {},
   "source": [
    "### 0. Import necessary modules"
   ]
  },
  {
   "cell_type": "code",
   "execution_count": 1,
   "metadata": {},
   "outputs": [],
   "source": [
    "import numpy as np \n",
    "import scipy.signal as sc \n",
    "import math\n",
    "from skimage.io import imshow, imread\n",
    "from time import time\n",
    "from skimage.color import rgb2gray\n",
    "from skimage.transform import resize"
   ]
  },
  {
   "cell_type": "markdown",
   "metadata": {},
   "source": [
    "# Task 4. Signs Detection"
   ]
  },
  {
   "cell_type": "markdown",
   "metadata": {},
   "source": [
    "### 1. Descriptor calculating algorithm:\n",
    "1. Calculate image derivatives $I_x, I_y$ in each direction;\n",
    "2. Calculate gradient module: \\\n",
    "$|G| = \\sqrt{{I_x}^2 + {I_y}^2}$, \\\n",
    "and gradient direction: \\\n",
    "$\\Theta = atan2(I_y, I_x)$;\n",
    "3. Gradient directions are mirrored and reduced to values from $0$ to $\\pi$;\n",
    "4. The image is divided into cells with size ***pix_rows $\\times$ pix_cols*** pixels each. For each cell histogram of directions with ***bin_count*** bins is calculated;\n",
    "5. Cells are combined into blocks with size ***n_block_row $\\times$ n_block_col*** cells each, histograms of different cells are concatenated into a vector and normed;\n",
    "6. Vectors from all blocks concatenation is an image descriptor.\n",
    "\n",
    "### 2. Program interface\n",
    "We need to implement function ***extract_hog(img)*** calculating the descriptor for image. And function ***fit_and_classify(train_features, train_labels, test_features)*** training and testing SVM."
   ]
  },
  {
   "cell_type": "markdown",
   "metadata": {},
   "source": [
    "Function ***extract_hog(img)***"
   ]
  },
  {
   "cell_type": "code",
   "execution_count": 4,
   "metadata": {},
   "outputs": [],
   "source": [
    "def extract_hog(img1): \n",
    "\n",
    "    #convert to grayscale\n",
    "    img = rgb2gray(img1)\n",
    "    \n",
    "    #common size\n",
    "    heigth, width = (64, 64)\n",
    "    \n",
    "    #resize image to common size \n",
    "    img = resize(img, (heigth, width))\n",
    "    \n",
    "    #derivatives calculating\n",
    "    I_x = np.zeros((heigth, width))\n",
    "    I_y = np.zeros((heigth, width))\n",
    "\n",
    "    I_x[:, 0] = img[:, 1] - img[:, 0]\n",
    "    I_x[:, -1] = img[:, -1] - img[:, -2]\n",
    "    I_x[:, 1 : -1] = img[:, 2 : ] - img[:, : -2]\n",
    "\n",
    "    I_y[0, :] = img[1, :] - img[0, :]\n",
    "    I_y[-1, :] = img[-1, :] - img[-2, :]\n",
    "    I_y[1 : -1, :] = img[2 : , :] - img[: -2, :]\n",
    "\n",
    "    #gradient module calculating\n",
    "    grad = np.sqrt(I_x ** 2 + I_y ** 2)\n",
    "\n",
    "    #gradient direction calculating\n",
    "    teta = (np.arctan2(I_y, I_x) + np.pi) / 2\n",
    "\n",
    "\n",
    "    #number of pixels in each cell\n",
    "    pix_rows = 8\n",
    "    pix_cols = 8\n",
    "    \n",
    "    #number of cells  \n",
    "    cell_rows = heigth // pix_rows #vertically\n",
    "    cell_cols = width // pix_cols #horizontally\n",
    "    \n",
    "    #bins(directions) number\n",
    "    bin_count = 9 #\n",
    "    \n",
    "    #cell histograms matrix\n",
    "    gist_cells = np.zeros((cell_rows, cell_cols, bin_count))\n",
    "\n",
    "    #fill bins in the cell histograms\n",
    "    for i in range(cell_rows):\n",
    "        for j in range(cell_cols):\n",
    "            temp_grad = grad[i * pix_rows : (i + 1) * pix_rows, j * pix_cols : (j + 1) * pix_cols]\n",
    "            temp_teta = teta[i * pix_rows : (i + 1) * pix_rows, j * pix_cols : (j + 1) * pix_cols]\n",
    "            cell_mask = (temp_teta * bin_count / np.pi).astype(int) % bin_count\n",
    "            for bin_pos in range(bin_count):\n",
    "                gist_cells[i, j, bin_pos] = np.sum(temp_grad[cell_mask == bin_pos])\n",
    "\n",
    "    #number of cells in each block\n",
    "    n_block_row = 4 #vertically\n",
    "    n_block_col = 4 #horizontally\n",
    "    \n",
    "    #step\n",
    "    step = 2\n",
    "    \n",
    "    #number of blocks\n",
    "    block_row = 1 + ((cell_rows - n_block_row) // step) #vertically \n",
    "    block_col = 1 + ((cell_cols - n_block_col) // step) #horizontally\n",
    "    \n",
    "    #histogram length\n",
    "    length = n_block_row * n_block_col * bin_count\n",
    "    \n",
    "    #block histograms matrix\n",
    "    gist_blocks = np.zeros((block_row, block_col, length))\n",
    "    \n",
    "    #descriptors calculating\n",
    "    for i in range(block_row):\n",
    "        for j in range(block_col):\n",
    "            gist_blocks[i, j] = gist_cells[step * i : (step * i + n_block_row), step * j : (step * j + n_block_col)].reshape(length)\n",
    "            gist_blocks[i, j] = gist_blocks[i, j] / np.sqrt(np.sum(gist_blocks[i, j] ** 2) + 1e-16)\n",
    "    return gist_blocks.reshape(block_row * block_col * length)"
   ]
  },
  {
   "cell_type": "markdown",
   "metadata": {},
   "source": [
    "Function ***fit_and_classify(train_features, train_labels, test_features)***"
   ]
  },
  {
   "cell_type": "code",
   "execution_count": 5,
   "metadata": {},
   "outputs": [],
   "source": [
    "def fit_and_classify(train_features, train_labels, test_features):\n",
    "    from sklearn.svm import SVC, LinearSVC\n",
    "    from sklearn.model_selection import GridSearchCV\n",
    "    from sklearn.model_selection import cross_val_score\n",
    "    from sklearn.utils import shuffle\n",
    "\n",
    "    #sample shuffling \n",
    "    sh_train_features, sh_train_labels = shuffle(train_features, train_labels)\n",
    "\n",
    "    #choose training method; value 0.3247 was chosen as optimal for C\n",
    "    svc = LinearSVC(C = 0.3247)\n",
    "\n",
    "    #train model on the train sample\n",
    "    svc.fit(sh_train_features, sh_train_labels)\n",
    "    #return prediction on the test sample\n",
    "    return svc.predict(test_features)"
   ]
  }
 ],
 "metadata": {
  "kernelspec": {
   "display_name": "Python 3",
   "language": "python",
   "name": "python3"
  },
  "language_info": {
   "codemirror_mode": {
    "name": "ipython",
    "version": 3
   },
   "file_extension": ".py",
   "mimetype": "text/x-python",
   "name": "python",
   "nbconvert_exporter": "python",
   "pygments_lexer": "ipython3",
   "version": "3.8.3"
  }
 },
 "nbformat": 4,
 "nbformat_minor": 4
}

