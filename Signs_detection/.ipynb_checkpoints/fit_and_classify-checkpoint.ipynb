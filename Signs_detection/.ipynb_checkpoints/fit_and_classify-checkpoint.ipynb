{
 "cells": [
  {
   "cell_type": "code",
   "execution_count": 2,
   "metadata": {},
   "outputs": [
    {
     "data": {
      "text/plain": [
       "array([0.49999961, 0.        , 0.        , ..., 0.        , 0.        ,\n",
       "       0.        ])"
      ]
     },
     "execution_count": 2,
     "metadata": {},
     "output_type": "execute_result"
    }
   ],
   "source": [
    "import numpy as np \n",
    "import scipy.signal as sc \n",
    "import math\n",
    "from skimage.io import imshow\n",
    "from time import time\n",
    "\n",
    "def extract_hog(img1): \n",
    "    #подгоняем все под общий рамзмер\n",
    "    img1 = np.resize(img1, (64, 64, 3))\n",
    "    \n",
    "    heigth, width = img1.shape[:2]\n",
    "    #переводим все в grayscale\n",
    "    img = img1[..., 0] * 0.299 + img1[..., 1] * 0.587 + img1[..., 2] * 0.114\n",
    "    \n",
    "    #классические ядра для подсчета градиента\n",
    "    kernel_x = np.array([[1, 0, -1]]) \n",
    "    kernel_y = np.transpose(kernel_x)\n",
    "    \n",
    "    #подсчет частных градиентов\n",
    "    I_x = sc.convolve2d(img, kernel_x, mode = 'same')\n",
    "    I_y = sc.convolve2d(img, kernel_y, mode = 'same')\n",
    "\n",
    "    I_x[:, 0] -= img[:, 0]\n",
    "    I_x[:, width - 1] += img[:, width - 1]\n",
    "    I_y[0, :] -= img[0, :]\n",
    "    I_y[heigth - 1, :] += img[heigth - 1, :]\n",
    "\n",
    "    #вычисляем модуль градиента\n",
    "    grad = (I_x ** 2 + I_y ** 2) ** (0.5)\n",
    "    \n",
    "    #вычисляем направление градиента; atan2 \\in (-pi, pi) - приводим к виду  (0, pi)?\n",
    "    teta = np.abs(np.arctan2(I_y, I_x))\n",
    "    \n",
    "    #следуя примеру Далаля и Триггса, ячейки возьмем размером 8*8 \n",
    "    \n",
    "    cell_rows = 8\n",
    "    cell_cols = 8 \n",
    "    \n",
    "    #а bin_count равным 9 \n",
    "    gist_cells = np.zeros((cell_rows, cell_cols, 9))\n",
    "    #заполняем корзины по ячейкам\n",
    "    for i in range(0, 8, 1):\n",
    "        for j in range(0, 8, 1):\n",
    "            temp = teta[8*i : (8*i + 8), 8*j : (8*j + 8)]\n",
    "            for k in range(0, 8, 1):\n",
    "                gist_cells[i][j][k] = temp[(math.pi * (k / 9) <= temp) & (temp < math.pi * ((k + 1) / 9))].sum()  \n",
    "            gist_cells[i][j][8] = temp[math.pi * (8 / 9) <= temp].sum()\n",
    "    \n",
    "    #следуя опять же примеру Далаля и Триггса, болки возьмем 4*4 ячейки с шагом 2\n",
    "    gist_blocks = np.zeros((3, 3, 144))\n",
    "    \n",
    "    #подсчитываем дескрипторы по блокам\n",
    "    for i in range(0, 3, 1):\n",
    "        for j in range(0, 3, 1):\n",
    "            gist_blocks[i, j] = gist_cells[2*i : 2*i + 4, 2*j : 2*j + 4].reshape(144)\n",
    "            gist_blocks[i, j] = gist_blocks[i, j] / (((gist_blocks[i, j] ** 2).sum() + 0.000001) ** (0.5))\n",
    "    return gist_blocks.reshape(9 * 144)\n",
    "\n",
    "def fit_and_classify(train_features, train_labels, test_features):\n",
    "    from sklearn.svm import SVC, LinearSVC\n",
    "    from sklearn.model_selection import GridSearchCV\n",
    "    \n",
    "    print(\"FIT_AND_CLASSIFY:\")\n",
    "    #поиск оптимального параметра для poly-ядра\n",
    "    #C_array = np.logspace(-20, 20, num = 20)\n",
    "    #gamma_array = np.logspace(-10, 10, num = 10)\n",
    "    #degree_array = [1, 2, 3, 4, 5, 6, 7, 8, 9, 10]\n",
    "    \n",
    "    #задаем метод машинного обучения с помощью класса LinearSVC\n",
    "    print(\"svc = LinearSVC\")\n",
    "    cur = time()\n",
    "    svc = LinearSVC(C = 3.0)\n",
    "    print(time() - cur)\n",
    "    \n",
    "    #обучаем алгроитм\n",
    "    print(\"svc.fit(...)\")\n",
    "    cur = time()\n",
    "    svc.fit(train_features, train_labels)\n",
    "    print(time() - cur)\n",
    "    \n",
    "    #классифицируем с помошью обученного алгоритма тренировочную выборку\n",
    "    print(\"svc.predict(train_features)\")\n",
    "    cur = time()\n",
    "    err_train = np.mean(train_labels != svc.predict(train_features))\n",
    "    print(time() - cur)\n",
    "    print('err_train = ', err_train)\n",
    "    \n",
    "    #возвращаем классификацию на тестовой выборке\n",
    "    print(\"svc.predict(test_features)\")\n",
    "    return svc.predict(test_features)\n"
   ]
  },
  {
   "cell_type": "code",
   "execution_count": 8,
   "metadata": {},
   "outputs": [
    {
     "name": "stdout",
     "output_type": "stream",
     "text": [
      "[5 6 8 9]\n"
     ]
    }
   ],
   "source": [
    "import numpy as np \n",
    "import scipy.signal as sc \n",
    "import math\n",
    "from skimage.io import imshow\n",
    "from time import time\n",
    "\n",
    "a = np.array([[1, 2, 3, 5], [4, 5, 6, 7], [7, 8, 9, 2], [8, 7, 3, 2]])\n",
    "b = a[1 : 3, 1 : 3].reshape(4)\n",
    "print(b)"
   ]
  }
 ],
 "metadata": {
  "kernelspec": {
   "display_name": "Python 3",
   "language": "python",
   "name": "python3"
  },
  "language_info": {
   "codemirror_mode": {
    "name": "ipython",
    "version": 3
   },
   "file_extension": ".py",
   "mimetype": "text/x-python",
   "name": "python",
   "nbconvert_exporter": "python",
   "pygments_lexer": "ipython3",
   "version": "3.7.3"
  }
 },
 "nbformat": 4,
 "nbformat_minor": 2
}
