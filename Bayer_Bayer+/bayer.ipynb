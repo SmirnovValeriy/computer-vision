{
 "cells": [
  {
   "cell_type": "markdown",
   "metadata": {},
   "source": [
    "### 0. Import necessary modules"
   ]
  },
  {
   "cell_type": "code",
   "execution_count": 1,
   "metadata": {},
   "outputs": [],
   "source": [
    "import numpy as np \n",
    "import scipy.signal as sc \n",
    "from glob import glob\n",
    "from os.path import abspath, basename, dirname, join\n",
    "from skimage import img_as_ubyte\n",
    "from skimage.io import imread, imsave, imshow\n",
    "from pytest import raises"
   ]
  },
  {
   "cell_type": "markdown",
   "metadata": {},
   "source": [
    "# Task 1. Bayer"
   ]
  },
  {
   "cell_type": "markdown",
   "metadata": {},
   "source": [
    "### 1. Bayer patern masks\n",
    "Write the function ***get_bayer_masks(n_rows, n_cols)*** which for the given image size creates masks for the red, green and blue channels according to the Bayer pattern. The mask is binary array of size ***(n_rows, n_cols, 3)***.\n",
    "\n",
    "Watch **[bayer_masks.png](bayer_masks.png)**.\n",
    "\n",
    "Unittest: **`$ ./run.py unittest masks`**"
   ]
  },
  {
   "cell_type": "code",
   "execution_count": 2,
   "metadata": {},
   "outputs": [],
   "source": [
    "def get_bayer_masks(n_rows, n_cols):\n",
    "    red = np.zeros((n_rows, n_cols))\n",
    "    green = np.zeros((n_rows, n_cols))\n",
    "    blue = np.zeros((n_rows, n_cols))\n",
    "    red_row = np.tile([0, 1], n_cols // 2)\n",
    "    green_row1 = np.tile([1, 0], n_cols // 2)\n",
    "    green_row2 = np.tile([0, 1], n_cols // 2)\n",
    "    blue_row = np.tile([1, 0], n_cols // 2)\n",
    "    if n_cols % 2:\n",
    "        red_row = np.append(red_row, [0])\n",
    "        blue_row = np.append(blue_row, [1])\n",
    "        green_row1 = np.append(green_row1, [1])\n",
    "        green_row2 = np.append(green_row2, [0])\n",
    "    for i in range(0, n_rows, 1):\n",
    "        if i % 2:\n",
    "            np.copyto(blue[i], blue_row)\n",
    "            np.copyto(green[i],green_row2)\n",
    "        else:\n",
    "            np.copyto(red[i], red_row)\n",
    "            np.copyto(green[i], green_row1)\n",
    "    return np.stack([red, green, blue], axis = 2)"
   ]
  },
  {
   "cell_type": "markdown",
   "metadata": {},
   "source": [
    "### 2. Colored image with missing \n",
    "\n",
    "Using masks for three channels from one-channel image get three-channels image.\n",
    "Write the function ***get_colored_img(raw_img)***.\n",
    "\n",
    "Unittest: **`$ ./run.py unittest colored_img`**"
   ]
  },
  {
   "cell_type": "code",
   "execution_count": 3,
   "metadata": {},
   "outputs": [],
   "source": [
    "def get_colored_img(raw_img):\n",
    "    rows = raw_img.shape[0]\n",
    "    cols = raw_img.shape[1]\n",
    "    masks = get_bayer_masks(rows, cols)\n",
    "    red = masks[..., 0]\n",
    "    green = masks[..., 1]\n",
    "    blue = masks[..., 2]\n",
    "    x = raw_img * red\n",
    "    x = x.reshape(-1, 1)\n",
    "    x = np.hstack((x,(raw_img * green).reshape(-1, 1)))\n",
    "    x = np.hstack((x,(raw_img * blue).reshape(-1, 1)))\n",
    "    x = x.reshape(rows, cols, 3)\n",
    "    return x"
   ]
  },
  {
   "cell_type": "markdown",
   "metadata": {},
   "source": [
    "### 3. Bilinear interpolation\n",
    "\n",
    "Write the function ***bilinear_interpolation(colored_img)***. The function gets as argument three-channels image with missing values according to the Bayer pattern.  Mising values calculate as following:\n",
    "1. Consider a window with size $3 {\\times} 3$ with center in the given pixel;\n",
    "2. Missing value of the color component calculates as mean of all known values of this color component in this window.\n",
    "\n",
    "Unittests: \\\n",
    "**`$ ./run.py unittest bilinear`** \\\n",
    "**`$ ./run.py unittest bilinear_img`**"
   ]
  },
  {
   "cell_type": "code",
   "execution_count": 1,
   "metadata": {},
   "outputs": [],
   "source": [
    "def bilinear_interpolation(colored_img):\n",
    "    \n",
    "    length, width = colored_img.shape[:2]\n",
    "    kernel = np.ones((3, 3))\n",
    "    masks = get_bayer_masks(length, width)\n",
    "    \n",
    "    red_mask1 = masks[..., 0]\n",
    "    green_mask1 = masks[..., 1]\n",
    "    blue_mask1 = masks[..., 2]\n",
    "    \n",
    "    red_mask2 = red_mask1[1 : length - 1, 1 : width - 1]\n",
    "    green_mask2 = green_mask1[1 : length - 1, 1 : width - 1]\n",
    "    blue_mask2 = blue_mask1[1 : length - 1, 1 : width - 1]\n",
    "    \n",
    "    red = sc.convolve2d(colored_img[..., 0], kernel, mode = 'valid') * (green_mask2 + blue_mask2)\n",
    "    red = red / (sc.convolve2d(red_mask1, kernel, mode = 'valid'))\n",
    "    \n",
    "    green = sc.convolve2d(colored_img[..., 1], kernel, mode = 'valid') * (red_mask2 + blue_mask2)\n",
    "    green = green / (sc.convolve2d(green_mask1, kernel, mode = 'valid'))\n",
    "    \n",
    "    blue = sc.convolve2d(colored_img[..., 2], kernel, mode = 'valid') * (green_mask2 + red_mask2)\n",
    "    blue = blue / (sc.convolve2d(blue_mask1, kernel, mode = 'valid'))\n",
    "                     \n",
    "    colored_img[...,0][1 : length - 1, 1 : width - 1] = colored_img[...,0][1 : length - 1, 1 : width - 1] + red\n",
    "    colored_img[...,1][1 : length - 1, 1 : width - 1] = colored_img[...,1][1 : length - 1, 1 : width - 1] + green\n",
    "    colored_img[...,2][1 : length - 1, 1 : width - 1] = colored_img[...,2][1 : length - 1, 1 : width - 1] + blue\n",
    "    colored_img = colored_img.astype(np.uint16)\n",
    "    return colored_img"
   ]
  },
  {
   "cell_type": "markdown",
   "metadata": {},
   "source": [
    "# Task 2. Bayer+\n",
    "Let's improve bilinear interpolation function\n",
    "\n",
    "### 4. Improved bilinear interpolation\n",
    "\n",
    "In improved bilinear interpolation missing values calculate according to following masks. \n",
    "\n",
    "Watch **[interpolation_masks.png](interpolation_masks.png)**.\n",
    "\n",
    "Unittest: \\\n",
    "**`$ ./run.py unittest improved`** \\\n",
    "**`$ ./run.py unittest improved_img`**"
   ]
  },
  {
   "cell_type": "code",
   "execution_count": 2,
   "metadata": {},
   "outputs": [],
   "source": [
    "def improved_interpolation(raw_img):\n",
    "    \n",
    "    raw_img = get_colored_img(raw_img)\n",
    "    \n",
    "    raw_img = raw_img / 1.0\n",
    "    two_r = np.array(([[0, 0, 0, 0, 0],\n",
    "             [0, 0, 0.25, 0, 0],\n",
    "             [0, 0.25, 0, 0.25, 0],\n",
    "             [0, 0, 0.25, 0, 0],\n",
    "             [0, 0, 0, 0, 0]]))\n",
    "    two_b = np.array(([[0, 0, 0, 0, 0],\n",
    "             [0, 0.25, 0, 0.25, 0],\n",
    "             [0, 0, 0, 0, 0],\n",
    "             [0, 0.25, 0, 0.25, 0],\n",
    "             [0, 0, 0, 0, 0]]))\n",
    "    onefour_g = np.array(([[0, 0, -0.125, 0, 0],\n",
    "             [0, 0, 0, 0, 0],\n",
    "             [-0.125, 0, 0.5, 0, -0.125],\n",
    "             [0, 0, 0, 0, 0],\n",
    "             [0, 0, -0.125, 0, 0]]))\n",
    "    r_green_1 = np.array(([[0, 0, 0.0625, 0, 0],\n",
    "             [0, -0.125, 0, -0.125, 0],\n",
    "             [-0.125, 0, 0.625, 0, -0.125],\n",
    "             [0, -0.125, 0, -0.125, 0],\n",
    "             [0, 0, 0.0625, 0, 0]]))\n",
    "    r_green_2 = np.array(([[0, 0, -0.125, 0, 0],\n",
    "             [0, -0.125, 0, -0.125, 0],\n",
    "             [0.0625, 0, 0.625, 0, 0.0625],\n",
    "             [0, -0.125, 0, -0.125, 0],\n",
    "             [0, 0, -0.125, 0, 0]]))\n",
    "    r_blue_1 = np.array(([[0, 0, -0.1875, 0, 0],\n",
    "             [0, 0, 0, 0, 0],\n",
    "             [-0.1875, 0, 0.75, 0, -0.1875],\n",
    "             [0, 0, 0, 0, 0],\n",
    "             [0, 0, -0.1875, 0, 0]]))\n",
    "    four_2 = np.array(([[0, 0, 0, 0, 0],\n",
    "             [0, 0, 0.5, 0, 0],\n",
    "             [0, 0, 0, 0, 0],\n",
    "             [0, 0, 0.5, 0, 0],\n",
    "             [0, 0, 0, 0, 0]]))\n",
    "    four_1 = np.array(([[0, 0, 0, 0, 0],\n",
    "             [0, 0, 0, 0, 0],\n",
    "             [0, 0.5, 0, 0.5, 0],\n",
    "             [0, 0, 0, 0, 0],\n",
    "             [0, 0, 0, 0, 0]])) \n",
    "    \n",
    "    length, width = raw_img.shape[:2]\n",
    "    masks = get_bayer_masks(length, width)\n",
    "    red_mask = masks[..., 0][2 : length - 2, 2 : width - 2]\n",
    "    blue_mask = masks[..., 2][2 : length - 2, 2 : width - 2]\n",
    "    gr_mask = get_bayer_masks(length, width + 1)\n",
    "    gr_mask_1 = gr_mask[..., 0][:, 1 : width]\n",
    "    gr_mask_1 = gr_mask_1[2 : length - 2, 2 : width - 2]\n",
    "    gr_mask_2 = masks[...,1][2 : length - 2, 2 : width - 2] - gr_mask_1\n",
    "    \n",
    "    red = sc.convolve2d(raw_img[..., 2], r_blue_1, mode = 'valid') * blue_mask + \\\n",
    "    sc.convolve2d(raw_img[..., 0], two_b, mode = 'valid') * blue_mask + \\\n",
    "    sc.convolve2d(raw_img[..., 1], r_green_1, mode = 'valid') * gr_mask_1 + \\\n",
    "    sc.convolve2d(raw_img[..., 0], four_1, mode = 'valid') * gr_mask_1 + \\\n",
    "    sc.convolve2d(raw_img[..., 1], r_green_2, mode = 'valid') * gr_mask_2 + \\\n",
    "    sc.convolve2d(raw_img[..., 0], four_2, mode = 'valid') * gr_mask_2 \n",
    "    \n",
    "    green = sc.convolve2d(raw_img[..., 0], onefour_g, mode = 'valid') * red_mask + \\\n",
    "    sc.convolve2d(raw_img[..., 1], two_r, mode = 'valid') * red_mask + \\\n",
    "    sc.convolve2d(raw_img[..., 2], onefour_g, mode = 'valid') * blue_mask + \\\n",
    "    sc.convolve2d(raw_img[..., 1], two_r, mode = 'valid') * blue_mask\n",
    "    \n",
    "    \n",
    "    blue = sc.convolve2d(raw_img[..., 0], r_blue_1, mode = 'valid') * red_mask + \\\n",
    "    sc.convolve2d(raw_img[..., 2], two_b, mode = 'valid') * red_mask + \\\n",
    "    sc.convolve2d(raw_img[..., 1], r_green_1, mode = 'valid') * gr_mask_2 + \\\n",
    "    sc.convolve2d(raw_img[..., 2], four_1, mode = 'valid') * gr_mask_2 + \\\n",
    "    sc.convolve2d(raw_img[..., 1], r_green_2, mode = 'valid') * gr_mask_1 +\\\n",
    "    sc.convolve2d(raw_img[..., 2], four_2, mode = 'valid') * gr_mask_1 \n",
    "    \n",
    "    red = np.clip(red, 0, 255)\n",
    "    green = np.clip(green, 0, 255)\n",
    "    blue = np.clip(blue, 0, 255)\n",
    "    \n",
    "    raw_img[..., 0][2 : length - 2, 2 : width - 2] = red + raw_img[..., 0][2 : length - 2, 2 : width - 2]\n",
    "    raw_img[..., 1][2 : length - 2, 2 : width - 2] = green + raw_img[..., 1][2 : length - 2, 2 : width - 2]\n",
    "    raw_img[..., 2][2 : length - 2, 2 : width - 2] = blue + raw_img[..., 2][2 : length - 2, 2 : width - 2]\n",
    "    raw_img = raw_img.astype(np.uint8)\n",
    "    return raw_img"
   ]
  },
  {
   "cell_type": "markdown",
   "metadata": {},
   "source": [
    "### 5. PSNR"
   ]
  },
  {
   "cell_type": "markdown",
   "metadata": {},
   "source": [
    "Write the function ***compute_psnr(img_pred, img_gt)*** that computes PSNR metrics. \\\n",
    "To compute PSNR metrics we need to compute MSE metrics first.\n",
    "\n",
    "Unittest: \\\n",
    "**`$ ./run.py unittest psnr`**"
   ]
  },
  {
   "cell_type": "markdown",
   "metadata": {},
   "source": [
    "#### MSE-metrics"
   ]
  },
  {
   "cell_type": "code",
   "execution_count": 6,
   "metadata": {},
   "outputs": [],
   "source": [
    "def mse(img1, img2):\n",
    "    if(img1.ndim == 3):\n",
    "        length, width, heigth = img1.shape[:3]\n",
    "        temp = img1 - img2 \n",
    "        temp = temp ** 2 \n",
    "        temp = (1 / (length * width * heigth)) * np.sum(temp)\n",
    "        return temp\n",
    "    elif(img1.ndim == 2):\n",
    "        length, width = img1.shape[:2]\n",
    "        temp = img1 - img2 \n",
    "        temp = temp ** 2 \n",
    "        temp = (1 / (length * width)) * np.sum(temp)\n",
    "        return temp\n",
    "    else:\n",
    "        length = img1.shape\n",
    "        temp = img1 - img2 \n",
    "        temp = temp ** 2 \n",
    "        temp = (1 / length) * np.sum(temp)\n",
    "        return temp"
   ]
  },
  {
   "cell_type": "markdown",
   "metadata": {},
   "source": [
    "#### PSNR-metrics"
   ]
  },
  {
   "cell_type": "code",
   "execution_count": null,
   "metadata": {},
   "outputs": [],
   "source": [
    "def compute_psnr(img_pred, img_gt):\n",
    "    img_pred = img_pred / 1.0\n",
    "    img_gt = img_gt / 1.0\n",
    "    M = mse(img_pred, img_gt)\n",
    "    if(M == 0):\n",
    "        raise(ValueError)\n",
    "    psnr = img_gt.max()\n",
    "    psnr = psnr ** 2\n",
    "    psnr = psnr / M\n",
    "    psnr = np.log10(psnr)\n",
    "    psnr = psnr * 10\n",
    "    return psnr"
   ]
  }
 ],
 "metadata": {
  "kernelspec": {
   "display_name": "Python 3",
   "language": "python",
   "name": "python3"
  },
  "language_info": {
   "codemirror_mode": {
    "name": "ipython",
    "version": 3
   },
   "file_extension": ".py",
   "mimetype": "text/x-python",
   "name": "python",
   "nbconvert_exporter": "python",
   "pygments_lexer": "ipython3",
   "version": "3.7.3"
  }
 },
 "nbformat": 4,
 "nbformat_minor": 4
}
